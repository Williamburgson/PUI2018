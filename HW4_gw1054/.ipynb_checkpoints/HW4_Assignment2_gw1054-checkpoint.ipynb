{
 "cells": [
  {
   "cell_type": "markdown",
   "metadata": {},
   "source": [
    "### Idea: \n",
    "Do older riders ride the bike for a shorter duration?\n",
    "\n",
    "### Null Hypothesis: \n",
    "\n",
    "The trip duration of riders born before or in year 1960 is longer than or the same as the trip duration of the riders born after 1960\n",
    "\n",
    "### Alternative Hypothesis:\n",
    "\n",
    "The trip duration of riders born before or in year 1960 is shorter than the trip duration of the riders born after 1960\n",
    "\n",
    "### Formulated Hypothesis\n",
    "\n",
    "##### t0 = trip duration for rider born beofre or in 1960\n",
    "\n",
    "##### t1 = trip duration for rider born after 1960\n",
    "\n",
    "##### _$H_0$_ : t0 >= t1\n",
    "\n",
    "##### _$H_1$_ : t0 < t1\n",
    "\n",
    "\n",
    "OR\n",
    "\n",
    "\n",
    "##### _$H_0$_ : t0 - t1 >= 0\n",
    "\n",
    "##### _$H_1$_ : t0 - t1 < 0\n",
    "\n",
    "### Significance Level\n",
    "\n",
    "I will use a significance level  $\\alpha=0.05$\n",
    "\n",
    "which means i want the probability of getting a result at least as significant as mine to be less then 5%"
   ]
  },
  {
   "cell_type": "markdown",
   "metadata": {},
   "source": [
    "### Phase 1: Collect data from Citi Bike"
   ]
  },
  {
   "cell_type": "code",
   "execution_count": 1,
   "metadata": {},
   "outputs": [],
   "source": [
    "from __future__  import print_function, division\n",
    "import pylab as pl\n",
    "import pandas as pd\n",
    "import numpy as np\n",
    "import matplotlib.pyplot as plt\n",
    "%matplotlib inline\n",
    "import os\n",
    "\n",
    "####### Prof. Bianco's method to ensure that the variable PUIDATA exists. (Modified) #######\n",
    "\n",
    "os.environ[\"PUI2018\"] = \"%s/PUI2018\"%os.getenv(\"HOME\")\n",
    "if os.getenv ('PUI2018') is None:\n",
    "    print (\"Must set env variable PUI2018\")\n",
    "    \n",
    "puidata = os.getenv(\"PUIDATA\")\n",
    "if puidata is None:\n",
    "    os.environ[\"PUIDATA\"] = \"%s/PUIdata\"%os.getenv(\"HOME\")"
   ]
  },
  {
   "cell_type": "code",
   "execution_count": 2,
   "metadata": {},
   "outputs": [],
   "source": [
    "###### Prof. Bianco's method to download the data file into PUIdata folder. #######\n",
    "\n",
    "def getCitiBikeCSV(datestring):\n",
    "    print (\"Downloading\", datestring)\n",
    "    ### First I will heck that it is not already there\n",
    "    if not os.path.isfile(os.getenv(\"PUIDATA\") + \"/\" + datestring + \"-citibike-tripdata.csv\"):\n",
    "        if os.path.isfile(datestring + \"-citibike-tripdata.csv\"):\n",
    "            # if in the current dir just move it\n",
    "            if os.system(\"mv \" + datestring + \"-citibike-tripdata.csv \" + os.getenv(\"PUIDATA\")):\n",
    "                print (\"Error moving file!, Please check!\")\n",
    "        #otherwise start looking for the zip file\n",
    "        else:\n",
    "            if not os.path.isfile(os.getenv(\"PUIDATA\") + \"/\" + datestring + \"-citibike-tripdata.zip\"):\n",
    "                if not os.path.isfile(datestring + \"-citibike-tripdata.zip\"):\n",
    "                    os.system(\"curl -O https://s3.amazonaws.com/tripdata/\" + datestring + \"-citibike-tripdata.zip\")\n",
    "                ###  To move it I use the os.system() functions to run bash commands with arguments\n",
    "                os.system(\"mv \" + datestring + \"-citibike-tripdata.zip \" + os.getenv(\"PUIDATA\"))\n",
    "            ### unzip the csv \n",
    "            os.system(\"unzip \" + os.getenv(\"PUIDATA\") + \"/\" + datestring + \"-citibike-tripdata.zip\")\n",
    "            ## NOTE: old csv citibike data had a different name structure. \n",
    "            if '2014' in datestring:\n",
    "                os.system(\"mv \" + datestring[:4] + '-' +  datestring[4:] + \n",
    "                          \"\\ -\\ Citi\\ Bike\\ trip\\ data.csv \" + datestring + \"-citibike-tripdata.csv\")\n",
    "            os.system(\"mv \" + datestring + \"-citibike-tripdata.csv \" + os.getenv(\"PUIDATA\"))\n",
    "    ### One final check:\n",
    "    if not os.path.isfile(os.getenv(\"PUIDATA\") + \"/\" + datestring + \"-citibike-tripdata.csv\"):\n",
    "        print (\"WARNING!!! something is wrong: the file is not there!\")\n",
    "\n",
    "    else:\n",
    "        print (\"file in place, you can continue\")"
   ]
  },
  {
   "cell_type": "code",
   "execution_count": 23,
   "metadata": {},
   "outputs": [
    {
     "name": "stdout",
     "output_type": "stream",
     "text": [
      "Downloading 201511\n",
      "file in place, you can continue\n"
     ]
    }
   ],
   "source": [
    "###### Prof. Bianco's method to download data. ######\n",
    "\n",
    "# date = 201500\n",
    "# for i in range(12):\n",
    "#     date += 1\n",
    "#     print(str(date))\n",
    "#     getCitiBikeCSV(str(date))\n",
    "datestring = '201511'\n",
    "getCitiBikeCSV(datestring)"
   ]
  },
  {
   "cell_type": "code",
   "execution_count": 24,
   "metadata": {},
   "outputs": [],
   "source": [
    "##### Prof. Bianco's method to read data into df. ######\n",
    "# datelist = range(201501, 201513)\n",
    "# ls = []\n",
    "# for i in datelist:\n",
    "#     temp = pd.read_csv(os.getenv(\"PUIDATA\") + \"/\" + str(i) + '-citibike-tripdata.csv')\n",
    "#     ls.append(temp)\n",
    "data = pd.read_csv(os.getenv(\"PUIDATA\") + \"/\" + datestring + '-citibike-tripdata.csv')"
   ]
  },
  {
   "cell_type": "code",
   "execution_count": 18,
   "metadata": {},
   "outputs": [],
   "source": [
    "#data = pd.concat(ls)"
   ]
  },
  {
   "cell_type": "code",
   "execution_count": 25,
   "metadata": {},
   "outputs": [
    {
     "data": {
      "text/html": [
       "<div>\n",
       "<style scoped>\n",
       "    .dataframe tbody tr th:only-of-type {\n",
       "        vertical-align: middle;\n",
       "    }\n",
       "\n",
       "    .dataframe tbody tr th {\n",
       "        vertical-align: top;\n",
       "    }\n",
       "\n",
       "    .dataframe thead th {\n",
       "        text-align: right;\n",
       "    }\n",
       "</style>\n",
       "<table border=\"1\" class=\"dataframe\">\n",
       "  <thead>\n",
       "    <tr style=\"text-align: right;\">\n",
       "      <th></th>\n",
       "      <th>tripduration</th>\n",
       "      <th>starttime</th>\n",
       "      <th>stoptime</th>\n",
       "      <th>start station id</th>\n",
       "      <th>start station name</th>\n",
       "      <th>start station latitude</th>\n",
       "      <th>start station longitude</th>\n",
       "      <th>end station id</th>\n",
       "      <th>end station name</th>\n",
       "      <th>end station latitude</th>\n",
       "      <th>end station longitude</th>\n",
       "      <th>bikeid</th>\n",
       "      <th>usertype</th>\n",
       "      <th>birth year</th>\n",
       "      <th>gender</th>\n",
       "    </tr>\n",
       "  </thead>\n",
       "  <tbody>\n",
       "    <tr>\n",
       "      <th>0</th>\n",
       "      <td>1110</td>\n",
       "      <td>11/1/2015 00:00:00</td>\n",
       "      <td>11/1/2015 00:18:31</td>\n",
       "      <td>537</td>\n",
       "      <td>Lexington Ave &amp; E 24 St</td>\n",
       "      <td>40.740259</td>\n",
       "      <td>-73.984092</td>\n",
       "      <td>531</td>\n",
       "      <td>Forsyth St &amp; Broome St</td>\n",
       "      <td>40.718939</td>\n",
       "      <td>-73.992663</td>\n",
       "      <td>22545</td>\n",
       "      <td>Subscriber</td>\n",
       "      <td>1981.0</td>\n",
       "      <td>2</td>\n",
       "    </tr>\n",
       "    <tr>\n",
       "      <th>1</th>\n",
       "      <td>1094</td>\n",
       "      <td>11/1/2015 00:00:01</td>\n",
       "      <td>11/1/2015 00:18:15</td>\n",
       "      <td>537</td>\n",
       "      <td>Lexington Ave &amp; E 24 St</td>\n",
       "      <td>40.740259</td>\n",
       "      <td>-73.984092</td>\n",
       "      <td>531</td>\n",
       "      <td>Forsyth St &amp; Broome St</td>\n",
       "      <td>40.718939</td>\n",
       "      <td>-73.992663</td>\n",
       "      <td>23959</td>\n",
       "      <td>Subscriber</td>\n",
       "      <td>1980.0</td>\n",
       "      <td>1</td>\n",
       "    </tr>\n",
       "    <tr>\n",
       "      <th>2</th>\n",
       "      <td>520</td>\n",
       "      <td>11/1/2015 00:00:05</td>\n",
       "      <td>11/1/2015 00:08:45</td>\n",
       "      <td>536</td>\n",
       "      <td>1 Ave &amp; E 30 St</td>\n",
       "      <td>40.741444</td>\n",
       "      <td>-73.975361</td>\n",
       "      <td>498</td>\n",
       "      <td>Broadway &amp; W 32 St</td>\n",
       "      <td>40.748549</td>\n",
       "      <td>-73.988084</td>\n",
       "      <td>22251</td>\n",
       "      <td>Subscriber</td>\n",
       "      <td>1988.0</td>\n",
       "      <td>1</td>\n",
       "    </tr>\n",
       "    <tr>\n",
       "      <th>3</th>\n",
       "      <td>753</td>\n",
       "      <td>11/1/2015 00:00:15</td>\n",
       "      <td>11/1/2015 00:12:48</td>\n",
       "      <td>229</td>\n",
       "      <td>Great Jones St</td>\n",
       "      <td>40.727434</td>\n",
       "      <td>-73.993790</td>\n",
       "      <td>328</td>\n",
       "      <td>Watts St &amp; Greenwich St</td>\n",
       "      <td>40.724055</td>\n",
       "      <td>-74.009660</td>\n",
       "      <td>15869</td>\n",
       "      <td>Subscriber</td>\n",
       "      <td>1981.0</td>\n",
       "      <td>1</td>\n",
       "    </tr>\n",
       "    <tr>\n",
       "      <th>4</th>\n",
       "      <td>353</td>\n",
       "      <td>11/1/2015 00:00:22</td>\n",
       "      <td>11/1/2015 00:06:15</td>\n",
       "      <td>285</td>\n",
       "      <td>Broadway &amp; E 14 St</td>\n",
       "      <td>40.734546</td>\n",
       "      <td>-73.990741</td>\n",
       "      <td>151</td>\n",
       "      <td>Cleveland Pl &amp; Spring St</td>\n",
       "      <td>40.722104</td>\n",
       "      <td>-73.997249</td>\n",
       "      <td>21645</td>\n",
       "      <td>Subscriber</td>\n",
       "      <td>1987.0</td>\n",
       "      <td>1</td>\n",
       "    </tr>\n",
       "  </tbody>\n",
       "</table>\n",
       "</div>"
      ],
      "text/plain": [
       "   tripduration           starttime            stoptime  start station id  \\\n",
       "0          1110  11/1/2015 00:00:00  11/1/2015 00:18:31               537   \n",
       "1          1094  11/1/2015 00:00:01  11/1/2015 00:18:15               537   \n",
       "2           520  11/1/2015 00:00:05  11/1/2015 00:08:45               536   \n",
       "3           753  11/1/2015 00:00:15  11/1/2015 00:12:48               229   \n",
       "4           353  11/1/2015 00:00:22  11/1/2015 00:06:15               285   \n",
       "\n",
       "        start station name  start station latitude  start station longitude  \\\n",
       "0  Lexington Ave & E 24 St               40.740259               -73.984092   \n",
       "1  Lexington Ave & E 24 St               40.740259               -73.984092   \n",
       "2          1 Ave & E 30 St               40.741444               -73.975361   \n",
       "3           Great Jones St               40.727434               -73.993790   \n",
       "4       Broadway & E 14 St               40.734546               -73.990741   \n",
       "\n",
       "   end station id          end station name  end station latitude  \\\n",
       "0             531    Forsyth St & Broome St             40.718939   \n",
       "1             531    Forsyth St & Broome St             40.718939   \n",
       "2             498        Broadway & W 32 St             40.748549   \n",
       "3             328   Watts St & Greenwich St             40.724055   \n",
       "4             151  Cleveland Pl & Spring St             40.722104   \n",
       "\n",
       "   end station longitude  bikeid    usertype  birth year  gender  \n",
       "0             -73.992663   22545  Subscriber      1981.0       2  \n",
       "1             -73.992663   23959  Subscriber      1980.0       1  \n",
       "2             -73.988084   22251  Subscriber      1988.0       1  \n",
       "3             -74.009660   15869  Subscriber      1981.0       1  \n",
       "4             -73.997249   21645  Subscriber      1987.0       1  "
      ]
     },
     "execution_count": 25,
     "metadata": {},
     "output_type": "execute_result"
    }
   ],
   "source": [
    "data.head()"
   ]
  },
  {
   "cell_type": "markdown",
   "metadata": {},
   "source": [
    "### Phase 2: Prepare the data"
   ]
  },
  {
   "cell_type": "code",
   "execution_count": 26,
   "metadata": {},
   "outputs": [
    {
     "data": {
      "text/html": [
       "<div>\n",
       "<style scoped>\n",
       "    .dataframe tbody tr th:only-of-type {\n",
       "        vertical-align: middle;\n",
       "    }\n",
       "\n",
       "    .dataframe tbody tr th {\n",
       "        vertical-align: top;\n",
       "    }\n",
       "\n",
       "    .dataframe thead th {\n",
       "        text-align: right;\n",
       "    }\n",
       "</style>\n",
       "<table border=\"1\" class=\"dataframe\">\n",
       "  <thead>\n",
       "    <tr style=\"text-align: right;\">\n",
       "      <th></th>\n",
       "      <th>tripduration</th>\n",
       "      <th>birth year</th>\n",
       "    </tr>\n",
       "  </thead>\n",
       "  <tbody>\n",
       "    <tr>\n",
       "      <th>0</th>\n",
       "      <td>1110</td>\n",
       "      <td>1981.0</td>\n",
       "    </tr>\n",
       "    <tr>\n",
       "      <th>1</th>\n",
       "      <td>1094</td>\n",
       "      <td>1980.0</td>\n",
       "    </tr>\n",
       "    <tr>\n",
       "      <th>2</th>\n",
       "      <td>520</td>\n",
       "      <td>1988.0</td>\n",
       "    </tr>\n",
       "    <tr>\n",
       "      <th>3</th>\n",
       "      <td>753</td>\n",
       "      <td>1981.0</td>\n",
       "    </tr>\n",
       "    <tr>\n",
       "      <th>4</th>\n",
       "      <td>353</td>\n",
       "      <td>1987.0</td>\n",
       "    </tr>\n",
       "  </tbody>\n",
       "</table>\n",
       "</div>"
      ],
      "text/plain": [
       "   tripduration  birth year\n",
       "0          1110      1981.0\n",
       "1          1094      1980.0\n",
       "2           520      1988.0\n",
       "3           753      1981.0\n",
       "4           353      1987.0"
      ]
     },
     "execution_count": 26,
     "metadata": {},
     "output_type": "execute_result"
    }
   ],
   "source": [
    "data = data[['tripduration', 'birth year']]\n",
    "data.head()"
   ]
  },
  {
   "cell_type": "markdown",
   "metadata": {},
   "source": [
    "### Phase 3: Plot the data"
   ]
  },
  {
   "cell_type": "code",
   "execution_count": 27,
   "metadata": {},
   "outputs": [
    {
     "data": {
      "text/plain": [
       "Text(0.5,1,'Trip Duration VS. Birth Year')"
      ]
     },
     "execution_count": 27,
     "metadata": {},
     "output_type": "execute_result"
    },
    {
     "data": {
      "image/png": "[encoded data removed]",
      "text/plain": [
       "<Figure size 1080x1080 with 1 Axes>"
      ]
     },
     "metadata": {},
     "output_type": "display_data"
    }
   ],
   "source": [
    "fig = plt.figure(figsize=(15,15))\n",
    "plt.scatter(data['birth year'], data['tripduration'])\n",
    "plt.xlabel('Birth Year', fontsize=16)\n",
    "plt.ylabel('Trip duration', fontsize=16)\n",
    "plt.title('Trip Duration VS. Birth Year', fontsize=20)"
   ]
  },
  {
   "cell_type": "code",
   "execution_count": null,
   "metadata": {},
   "outputs": [],
   "source": []
  }
 ],
 "metadata": {
  "kernelspec": {
   "display_name": "PUI2016_Python3",
   "language": "python",
   "name": "pui2016_python3"
  },
  "language_info": {
   "codemirror_mode": {
    "name": "ipython",
    "version": 3
   },
   "file_extension": ".py",
   "mimetype": "text/x-python",
   "name": "python",
   "nbconvert_exporter": "python",
   "pygments_lexer": "ipython3",
   "version": "3.5.4"
  }
 },
 "nbformat": 4,
 "nbformat_minor": 2
}
